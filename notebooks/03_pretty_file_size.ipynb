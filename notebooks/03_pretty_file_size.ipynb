{
 "cells": [
  {
   "cell_type": "code",
   "execution_count": 1,
   "metadata": {
    "collapsed": true
   },
   "outputs": [],
   "source": [
    "def pretty_file_size_str(size):\n",
    "    '''String representation of file size\n",
    "\n",
    "    Get the size in bytes and return the string\n",
    "    representation using appropriate units.\n",
    "\n",
    "    '''\n",
    "\n",
    "    if size >= 2**20:\n",
    "        size /= 2**20\n",
    "        units = 'MB'\n",
    "    elif size >= 2**10:\n",
    "        size /= 2**10\n",
    "        units = 'KB'\n",
    "    else:\n",
    "        units = 'Bytes'\n",
    "\n",
    "    return '%.3f %s' % (size, units)"
   ]
  },
  {
   "cell_type": "code",
   "execution_count": 2,
   "metadata": {
    "collapsed": true
   },
   "outputs": [],
   "source": [
    "import os"
   ]
  },
  {
   "cell_type": "code",
   "execution_count": 3,
   "metadata": {
    "collapsed": true
   },
   "outputs": [],
   "source": [
    "filename = os.path.join(os.pardir, 'src', 'python-training.lyx')\n",
    "size = os.path.getsize(filename)"
   ]
  },
  {
   "cell_type": "code",
   "execution_count": 4,
   "metadata": {
    "collapsed": false
   },
   "outputs": [
    {
     "data": {
      "text/plain": [
       "'193.780 KB'"
      ]
     },
     "execution_count": 4,
     "metadata": {},
     "output_type": "execute_result"
    }
   ],
   "source": [
    "pretty_file_size_str(size)"
   ]
  }
 ],
 "metadata": {
  "kernelspec": {
   "display_name": "Python 3",
   "language": "python",
   "name": "python3"
  },
  "language_info": {
   "codemirror_mode": {
    "name": "ipython",
    "version": 3
   },
   "file_extension": ".py",
   "mimetype": "text/x-python",
   "name": "python",
   "nbconvert_exporter": "python",
   "pygments_lexer": "ipython3",
   "version": "3.5.1"
  }
 },
 "nbformat": 4,
 "nbformat_minor": 0
}
