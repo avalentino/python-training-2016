{
 "cells": [
  {
   "cell_type": "markdown",
   "metadata": {},
   "source": [
    "## Text mode"
   ]
  },
  {
   "cell_type": "code",
   "execution_count": 1,
   "metadata": {
    "collapsed": true
   },
   "outputs": [],
   "source": [
    "src = '../README.rst'\n",
    "dst = 'test.txt'"
   ]
  },
  {
   "cell_type": "code",
   "execution_count": 2,
   "metadata": {
    "collapsed": true
   },
   "outputs": [],
   "source": [
    "with open(src) as fin, open(dst, 'w') as fout:\n",
    "    for line in fin:               # line oriented iteration\n",
    "        line = line.rstrip('\\n')   # newlines are kept\n",
    "        fout.write(line[::-1])     # reverse the line\n",
    "        fout.write('\\n')"
   ]
  },
  {
   "cell_type": "code",
   "execution_count": 3,
   "metadata": {
    "collapsed": false
   },
   "outputs": [
    {
     "name": "stdout",
     "output_type": "stream",
     "text": [
      "gniniarT nohtyP\r\n",
      "===============\r\n",
      "\r\n",
      "onitnelaV oinotnA :rohtuA:\r\n",
      ">ti.ilacsit@onitnelav.oinotna< onitnelaV oinotnA 6102 :thgirypoC:\r\n",
      "\r\n",
      "\r\n",
      "tuobA\r\n",
      "-----\r\n",
      "\r\n",
      ".6102 enuJ no syserA ni dleh esruoc lanretni eht fo lairetam gniniarT\r\n",
      "\r\n",
      "\r\n",
      "dliub ot woH\r\n",
      "------------\r\n",
      "\r\n",
      ":deen uoy ecruos mrof noitatneserp FDP eht dliub oT\r\n",
      "\r\n",
      "_`>gro.xyl.www//:ptth< xyL` *\r\n",
      "xetalfdp dna tnemnorivna XeTaL gnikrow a *\r\n",
      "loot *tod* eht dna _`>gro.zivhparg.www//:ptth< zivhparG` *\r\n",
      "_`>ekam/erawtfos/gro.ung.www//:sptth< ekam UNG` *\r\n",
      "\r\n",
      "FDP eht dliub nac uoy dellatsni yltcerroc si erawtfos evoba eht fI\r\n",
      "::toor noitubirtsid ecruos eht morf dnammoc gniwollof eht gnisu noitatneserp\r\n",
      "\r\n",
      "ekam $  \r\n",
      "\r\n",
      "\r\n",
      "snoitubirttA\r\n",
      "------------\r\n",
      "\r\n",
      "gnp.*a/segami/crs :seliF:\r\n",
      ">gro.nohtyp@regdoog< regdooG divaD 8002-6002 :thgirypoC:\r\n",
      "esnecil )AS-YB( ekilA-erahS/noitubirttA snommoC evitaerC :esneciL:\r\n"
     ]
    }
   ],
   "source": [
    "!cat 'test.txt'"
   ]
  },
  {
   "cell_type": "code",
   "execution_count": 4,
   "metadata": {
    "collapsed": false
   },
   "outputs": [],
   "source": [
    "!rm test.txt"
   ]
  },
  {
   "cell_type": "markdown",
   "metadata": {},
   "source": [
    "## Binary mode"
   ]
  },
  {
   "cell_type": "code",
   "execution_count": 5,
   "metadata": {
    "collapsed": true
   },
   "outputs": [],
   "source": [
    "def simple_copy_file(src, dst):\n",
    "    with open(src, 'rb') as fin, open(dst, 'wb') as fout: \n",
    "        for block in fin:           # default block size is 4096 or 8192\n",
    "            fout.write(block)"
   ]
  },
  {
   "cell_type": "code",
   "execution_count": 6,
   "metadata": {
    "collapsed": false
   },
   "outputs": [],
   "source": [
    "simple_copy_file(src, dst)"
   ]
  },
  {
   "cell_type": "code",
   "execution_count": 7,
   "metadata": {
    "collapsed": false
   },
   "outputs": [
    {
     "name": "stdout",
     "output_type": "stream",
     "text": [
      "Python Training\r\n",
      "===============\r\n",
      "\r\n",
      ":Author: Antonio Valentino\r\n",
      ":Copyright: 2016 Antonio Valentino <antonio.valentino@tiscali.it>\r\n",
      "\r\n",
      "\r\n",
      "About\r\n",
      "-----\r\n",
      "\r\n",
      "Training material of the internal course held in Aresys on June 2016.\r\n",
      "\r\n",
      "\r\n",
      "How to build\r\n",
      "------------\r\n",
      "\r\n",
      "To build the PDF presentation form source you need:\r\n",
      "\r\n",
      "* `Lyx <http://www.lyx.org>`_\r\n",
      "* a working LaTeX anvironment and pdflatex\r\n",
      "* `Graphviz <http://www.graphviz.org>`_ and the *dot* tool\r\n",
      "* `GNU make <https://www.gnu.org/software/make>`_\r\n",
      "\r\n",
      "If the above software is correctly installed you can build the PDF\r\n",
      "presentation using the following command from the source distribution root::\r\n",
      "\r\n",
      "  $ make\r\n",
      "\r\n",
      "\r\n",
      "Attributions\r\n",
      "------------\r\n",
      "\r\n",
      ":Files: src/images/a*.png\r\n",
      ":Copyright: 2006-2008 David Goodger <goodger@python.org>\r\n",
      ":License: Creative Commons Attribution/Share-Alike (BY-SA) license\r\n"
     ]
    }
   ],
   "source": [
    "!cat test.txt"
   ]
  },
  {
   "cell_type": "code",
   "execution_count": 8,
   "metadata": {
    "collapsed": true
   },
   "outputs": [],
   "source": [
    "!rm test.txt"
   ]
  }
 ],
 "metadata": {
  "kernelspec": {
   "display_name": "Python 3",
   "language": "python",
   "name": "python3"
  },
  "language_info": {
   "codemirror_mode": {
    "name": "ipython",
    "version": 3
   },
   "file_extension": ".py",
   "mimetype": "text/x-python",
   "name": "python",
   "nbconvert_exporter": "python",
   "pygments_lexer": "ipython3",
   "version": "3.5.1"
  }
 },
 "nbformat": 4,
 "nbformat_minor": 0
}
