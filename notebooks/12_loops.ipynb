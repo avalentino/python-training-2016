{
 "cells": [
  {
   "cell_type": "markdown",
   "metadata": {},
   "source": [
    "## Enumerate"
   ]
  },
  {
   "cell_type": "code",
   "execution_count": 1,
   "metadata": {
    "collapsed": false
   },
   "outputs": [
    {
     "name": "stdout",
     "output_type": "stream",
     "text": [
      "Item 0: a\n",
      "Item 1: b\n"
     ]
    }
   ],
   "source": [
    "for index, item in enumerate(['a', 'b']):\n",
    "    print('Item {}: {}'.format(index, item))"
   ]
  },
  {
   "cell_type": "markdown",
   "metadata": {},
   "source": [
    "## Loop on pairs"
   ]
  },
  {
   "cell_type": "code",
   "execution_count": 2,
   "metadata": {
    "collapsed": false
   },
   "outputs": [
    {
     "name": "stdout",
     "output_type": "stream",
     "text": [
      "key \"a\": 1\n",
      "key \"b\": 2\n"
     ]
    }
   ],
   "source": [
    "for key, value in [('a', 1), ('b', 2)]:\n",
    "    print('key \"{}\": {}'.format(key, value))"
   ]
  },
  {
   "cell_type": "markdown",
   "metadata": {},
   "source": [
    "## Zip"
   ]
  },
  {
   "cell_type": "code",
   "execution_count": 3,
   "metadata": {
    "collapsed": false
   },
   "outputs": [
    {
     "name": "stdout",
     "output_type": "stream",
     "text": [
      "key \"a\": 1\n",
      "key \"b\": 2\n"
     ]
    }
   ],
   "source": [
    "for key, value in zip(['a', 'b'], [1, 2]):\n",
    "    print('key \"{}\": {}'.format(key, value))"
   ]
  },
  {
   "cell_type": "markdown",
   "metadata": {},
   "source": [
    "## Looping on strings\n"
   ]
  },
  {
   "cell_type": "code",
   "execution_count": 4,
   "metadata": {
    "collapsed": false
   },
   "outputs": [
    {
     "name": "stdout",
     "output_type": "stream",
     "text": [
      "s  t  r  i  n  g  "
     ]
    }
   ],
   "source": [
    "for char in 'string':\n",
    "    print(char, end='  ')"
   ]
  },
  {
   "cell_type": "markdown",
   "metadata": {},
   "source": [
    "## Antipattern"
   ]
  },
  {
   "cell_type": "code",
   "execution_count": 5,
   "metadata": {
    "collapsed": false
   },
   "outputs": [
    {
     "name": "stdout",
     "output_type": "stream",
     "text": [
      "Item 0: a\n",
      "Item 1: b\n"
     ]
    }
   ],
   "source": [
    "# Bad\n",
    "seq = ['a', 'b']\n",
    "for i in range(2):\n",
    "    print('Item {}: {}'.format(i, seq[i]))"
   ]
  },
  {
   "cell_type": "code",
   "execution_count": 6,
   "metadata": {
    "collapsed": false
   },
   "outputs": [
    {
     "name": "stdout",
     "output_type": "stream",
     "text": [
      "Item 0: a\n",
      "Item 1: b\n"
     ]
    }
   ],
   "source": [
    "# Good\n",
    "for index, item in enumerate(['a', 'b']):\n",
    "    print('Item {}: {}'.format(index, item))"
   ]
  }
 ],
 "metadata": {
  "kernelspec": {
   "display_name": "Python 3",
   "language": "python",
   "name": "python3"
  },
  "language_info": {
   "codemirror_mode": {
    "name": "ipython",
    "version": 3
   },
   "file_extension": ".py",
   "mimetype": "text/x-python",
   "name": "python",
   "nbconvert_exporter": "python",
   "pygments_lexer": "ipython3",
   "version": "3.5.1"
  }
 },
 "nbformat": 4,
 "nbformat_minor": 0
}
